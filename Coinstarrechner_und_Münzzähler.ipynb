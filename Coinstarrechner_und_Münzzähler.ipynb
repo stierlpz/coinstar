{
  "nbformat": 4,
  "nbformat_minor": 0,
  "metadata": {
    "colab": {
      "name": "Coinstarrechner und Münzzähler",
      "provenance": [],
      "collapsed_sections": [],
      "authorship_tag": "ABX9TyM/be4eF74nNMSB1HTAdVy0",
      "include_colab_link": true
    },
    "kernelspec": {
      "name": "python3",
      "display_name": "Python 3"
    },
    "language_info": {
      "name": "python"
    }
  },
  "cells": [
    {
      "cell_type": "markdown",
      "metadata": {
        "id": "view-in-github",
        "colab_type": "text"
      },
      "source": [
        "<a href=\"https://colab.research.google.com/github/stierlpz/coinstar/blob/main/Coinstarrechner_und_M%C3%BCnzz%C3%A4hler.ipynb\" target=\"_parent\"><img src=\"https://colab.research.google.com/assets/colab-badge.svg\" alt=\"Open In Colab\"/></a>"
      ]
    },
    {
      "cell_type": "markdown",
      "metadata": {
        "id": "LcoN685VXM6C"
      },
      "source": [
        ""
      ]
    },
    {
      "cell_type": "markdown",
      "metadata": {
        "id": "RKN7J9rWbKrX"
      },
      "source": [
        "#Coinstarrechner und Münzzähler\n",
        "---\n"
      ]
    },
    {
      "cell_type": "code",
      "metadata": {
        "colab": {
          "base_uri": "https://localhost:8080/"
        },
        "id": "6gu2f-lpLKqT",
        "outputId": "93b1fd67-82c4-48dc-dc10-9d1076e51a6a"
      },
      "source": [
        "\n",
        "print(\"-----------------------------------------------------------\")\n",
        "c1 = float(input(\"Menge 0,01€ :   \"))\n",
        "c01=c1*0.01\n",
        "print(\"-----------------------------------------------------------\")\n",
        "c2 = float(input(\"Menge 0,02€ :   \"))\n",
        "c02=c2*0.02\n",
        "print(\"-----------------------------------------------------------\")\n",
        "c5 = float(input(\"Menge 0,05€ :   \"))\n",
        "c05=c5*0.05\n",
        "print(\"-----------------------------------------------------------\")\n",
        "c10 = float(input(\"Menge 0,10€ :   \"))\n",
        "c010=c10*0.10\n",
        "print(\"-----------------------------------------------------------\")\n",
        "c20 = float(input(\"Menge 0,20€ :   \"))\n",
        "c020=c20*0.20\n",
        "print(\"-----------------------------------------------------------\")\n",
        "c50 = float(input(\"Menge 0,50€ :   \"))\n",
        "c050=c50*0.50\n",
        "print(\"----------------------------------------------------------\")\n",
        "c100 = float(input(\"Menge 1,00€ :   \"))\n",
        "c0100=c100*1.00\n",
        "print(\"----------------------------------------------------------\")\n",
        "c200 = float(input(\"Menge 2,00€ :   \"))\n",
        "c0200=c200*2.00\n",
        "print(\"----------------------------------------------------------\")\n",
        "print(\"Summe 1 Cent:   \",round(c01,2),     \" EUR\")\n",
        "print(\"Summe 2 Cent:   \",round(c02,2),     \" EUR\")\n",
        "print(\"Summe 5 Cent:   \",round(c05,2),     \" EUR\")\n",
        "print(\"Summe 10 Cent:  \",round(c010,2),    \" EUR\")\n",
        "print(\"Summe 20 Cent:  \",round(c020,2),    \" EUR\")\n",
        "print(\"Summe 50 Cent:  \",round(c050,2),    \" EUR\")\n",
        "print(\"Summe 1  EUR:   \",round(c0100,2),   \" EUR\")\n",
        "print(\"Summe 2  EUR:   \",round(c0200,2),   \" EUR\")\n",
        "print(\"----------------------------------------------------------\")\n",
        "\n",
        "ges=c01+c02+c05+c010+c020+c050+c0100+c0200\n",
        "print(\"Gesamtsumme: \",ges,\"EUR\")\n",
        "print(\"==========================================================\")\n",
        "wgeb=0.099\n",
        "kurs= ges*wgeb\n",
        "guth=(ges-kurs)\n",
        "print(\"Wechselgebühr               :\",round(kurs,2),\" EUR\")\n",
        "print(\"Gebühr in %                 :\",round(wgeb*100,30),\"%\")\n",
        "print(\"Gebühr in % aufgerundet     :\",round(wgeb*100,2),\"%\")\n",
        "print(\"==========================================================\")\n",
        "print(\"Guthaben                    :\",round(guth,2),\" EUR\")\n",
        "print(\"==========================================================\")\n",
        "print(\"Das Guthaben von\", round(guth,2),\" EUR ist an der Kasse\")\n",
        "print(\"des jeweiligen Ladens einlösbar.\")\n",
        "print(\"Eine Einlösung an einer SB-Kasse ist nicht möglich.\")\n",
        "print(\"==========================================================\")\n"
      ],
      "execution_count": 2,
      "outputs": [
        {
          "output_type": "stream",
          "text": [
            "-----------------------------------------------------------\n",
            "Menge 0,01€ :   705\n",
            "-----------------------------------------------------------\n",
            "Menge 0,02€ :   237\n",
            "-----------------------------------------------------------\n",
            "Menge 0,05€ :   7\n",
            "-----------------------------------------------------------\n",
            "Menge 0,10€ :   0\n",
            "-----------------------------------------------------------\n",
            "Menge 0,20€ :   0\n",
            "-----------------------------------------------------------\n",
            "Menge 0,50€ :   1\n",
            "----------------------------------------------------------\n",
            "Menge 1,00€ :   0\n",
            "----------------------------------------------------------\n",
            "Menge 2,00€ :   0\n",
            "----------------------------------------------------------\n",
            "Summe 1 Cent:    7.05  EUR\n",
            "Summe 2 Cent:    4.74  EUR\n",
            "Summe 5 Cent:    0.35  EUR\n",
            "Summe 10 Cent:   0.0  EUR\n",
            "Summe 20 Cent:   0.0  EUR\n",
            "Summe 50 Cent:   0.5  EUR\n",
            "Summe 1  EUR:    0.0  EUR\n",
            "Summe 2  EUR:    0.0  EUR\n",
            "----------------------------------------------------------\n",
            "Gesamtsumme:  12.639999999999999 EUR\n",
            "==========================================================\n",
            "Wechselgebühr               : 1.25  EUR\n",
            "Gebühr in %                 : 9.9 %\n",
            "Gebühr in % aufgerundet     : 9.9 %\n",
            "==========================================================\n",
            "Guthaben                    : 11.39  EUR\n",
            "==========================================================\n",
            "Das Guthaben von 11.39  EUR ist an der Kasse\n",
            "des jeweiligen Ladens einlösbar.\n",
            "Eine Einlösung an einer SB-Kasse ist nicht möglich.\n",
            "==========================================================\n"
          ],
          "name": "stdout"
        }
      ]
    }
  ]
}