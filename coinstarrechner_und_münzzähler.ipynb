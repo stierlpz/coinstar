{
  "nbformat": 4,
  "nbformat_minor": 0,
  "metadata": {
    "colab": {
      "name": "coinstarrechner und münzzähler",
      "provenance": [],
      "authorship_tag": "ABX9TyOKs36DasYExMCpW2o0Ds5C",
      "include_colab_link": true
    },
    "kernelspec": {
      "name": "python3",
      "display_name": "Python 3"
    },
    "language_info": {
      "name": "python"
    }
  },
  "cells": [
    {
      "cell_type": "markdown",
      "metadata": {
        "id": "view-in-github",
        "colab_type": "text"
      },
      "source": [
        "<a href=\"https://colab.research.google.com/github/stierlpz/coinstar/blob/main/coinstarrechner_und_m%C3%BCnzz%C3%A4hler.ipynb\" target=\"_parent\"><img src=\"https://colab.research.google.com/assets/colab-badge.svg\" alt=\"Open In Colab\"/></a>"
      ]
    },
    {
      "cell_type": "code",
      "metadata": {
        "colab": {
          "base_uri": "https://localhost:8080/"
        },
        "id": "6gu2f-lpLKqT",
        "outputId": "0590804a-c2cb-49ba-9077-6f1c7cebaeb6"
      },
      "source": [
        "print(\"-----------------------------------------------------------\")\n",
        "c1 = float(input(\"Menge 0,01€ :   \"))\n",
        "c01=c1*0.01\n",
        "print(\"Summe 1 Cent:  \",round(c01,2),     \" EUR\")\n",
        "print(\"-----------------------------------------------------------\")\n",
        "c2 = float(input(\"Menge 0,02€ :   \"))\n",
        "c02=c2*0.02\n",
        "print(\"Summe 2 Cent:  \",round(c02,2),    \" EUR\")\n",
        "print(\"-----------------------------------------------------------\")\n",
        "c5 = float(input(\"Menge 0,05€ :   \"))\n",
        "c05=c5*0.05\n",
        "print(\"Summe 5 Cent:  \",round(c05,2),    \" Euro\")\n",
        "print(\"-----------------------------------------------------------\")\n",
        "c10 = float(input(\"Menge 0,10€ :   \"))\n",
        "c010=c10*0.10\n",
        "print(\"Summe 10 Cent:  \",round(c010,2),  \"  EUR\")\n",
        "print(\"-----------------------------------------------------------\")\n",
        "c20 = float(input(\"Menge 0,20€ :   \"))\n",
        "c020=c20*0.20\n",
        "print(\"Summe 20 Cent:  \",round(c020,2),  \" EUR\")\n",
        "print(\"-----------------------------------------------------------\")\n",
        "c50 = float(input(\"Menge 0,50€ :   \"))\n",
        "c050=c50*0.50\n",
        "print(\"Summe 50 Cent:  \",round(c050,2),  \" EUR\")\n",
        "print(\"----------------------------------------------------------\")\n",
        "c100 = float(input(\"Menge 1,00€ :   \"))\n",
        "c0100=c100*1.00\n",
        "print(\"Summe 1 EUR:  \",round(c0100,2),  \" EUR\")\n",
        "print(\"----------------------------------------------------------\")\n",
        "c200 = float(input(\"Menge 2,00€ :   \"))\n",
        "c0200=c200*2.00\n",
        "print(\"Summe 2 EUR:  \",round(c0200,2),  \" EUR\")\n",
        "print(\"----------------------------------------------------------\")\n",
        "ges=c01+c02+c05+c010+c020+c050+c0100+c0200\n",
        "print(\"Gesamtsumme: \",ges,\"EUR\")\n",
        "print(\"==========================================================\")\n",
        "wgeb=0.0993788819875777\n",
        "kurs= ges*wgeb\n",
        "guth=(ges-kurs)\n",
        "print(\"Wechselgebühr               :\",round(kurs,2),\" EUR\")\n",
        "print(\"Gebühr in %                 :\",round(wgeb*100,30),\"%\")\n",
        "print(\"Gebühr in % aufgerundet     :\",round(wgeb*100,2),\"%\")\n",
        "print(\"==========================================================\")\n",
        "print(\"Guthaben                    :\",round(guth,2),\" EUR\")\n",
        "print(\"==========================================================\")\n",
        "\n"
      ],
      "execution_count": 46,
      "outputs": [
        {
          "output_type": "stream",
          "text": [
            "-----------------------------------------------------------\n",
            "Menge 0,01€ :   30\n",
            "Summe 1 Cent:   0.3  EUR\n",
            "-----------------------------------------------------------\n",
            "Menge 0,02€ :   50\n",
            "Summe 2 Cent:   1.0  EUR\n",
            "-----------------------------------------------------------\n",
            "Menge 0,05€ :   10\n",
            "Summe 5 Cent:   0.5  Euro\n",
            "-----------------------------------------------------------\n",
            "Menge 0,10€ :   1\n",
            "Summe 10 Cent:   0.1   EUR\n",
            "-----------------------------------------------------------\n",
            "Menge 0,20€ :   25\n",
            "Summe 20 Cent:   5.0  EUR\n",
            "-----------------------------------------------------------\n",
            "Menge 0,50€ :   1\n",
            "Summe 50 Cent:   0.5  EUR\n",
            "----------------------------------------------------------\n",
            "Menge 1,00€ :   20\n",
            "Summe 1 EUR:   20.0  EUR\n",
            "----------------------------------------------------------\n",
            "Menge 2,00€ :   1\n",
            "Summe 2 EUR:   2.0  EUR\n",
            "----------------------------------------------------------\n",
            "Gesamtsumme:  29.4 EUR\n",
            "==========================================================\n",
            "Wechselgebühr               : 2.92  EUR\n",
            "Gebühr in %                 : 9.93788819875777 %\n",
            "Gebühr in % aufgerundet     : 9.94 %\n",
            "==========================================================\n",
            "Guthaben                    : 26.48  EUR\n"
          ],
          "name": "stdout"
        }
      ]
    }
  ]
}